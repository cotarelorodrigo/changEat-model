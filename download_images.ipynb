{
 "cells": [
  {
   "cell_type": "code",
   "execution_count": 11,
   "metadata": {},
   "outputs": [],
   "source": [
    "from google_images_download import google_images_download\n",
    "import glob\n",
    "import shutil\n",
    "import os\n",
    "import cv2\n",
    "\n",
    "#instantiate the class\n",
    "response = google_images_download.googleimagesdownload()\n",
    "download_path = \"downloads\"\n",
    "limit = 80"
   ]
  },
  {
   "cell_type": "code",
   "execution_count": 12,
   "metadata": {},
   "outputs": [],
   "source": [
    "def png_to_jpg(download_path):\n",
    "    pngs = glob.glob(download_path + \"*.png\")\n",
    "    for j in pngs:\n",
    "        img = cv2.imread(j)\n",
    "        cv2.imwrite(j[:-3] + 'jpg', img)\n",
    "        os.remove(j)\n",
    "\n",
    "def download_image(keywords, download_path, limit):\n",
    "    \n",
    "    for keyword in keywords:\n",
    "        arguments = {\"keywords\":keyword,\"limit\":limit,\"print_urls\":False, format:\"jpg\"}\n",
    "        print(\"STATUS: Downloading images for {}\".format(keyword))\n",
    "        paths = response.download(arguments)\n",
    "        download_path_dest = download_path + \"/\" + keyword + \"/\"\n",
    "        png_to_jpg(download_path_dest)\n",
    "        # take all the images from the dataset\n",
    "        image_paths = glob.glob(download_path_dest + \"*.jpg\")\n",
    "        print(\"Cantidad descargas: {}\".format(len(image_paths)))\n",
    "        for index, image_path in enumerate(image_paths, start=1):\n",
    "            original_path   = image_path\n",
    "            image_path      = image_path.split(\"/\")\n",
    "            image_file_name = str(index) + \".jpg\"\n",
    "            os.rename(original_path, download_path_dest + image_file_name)\n",
    "        dest_path = \"dataset/train/\" + keyword + \"/\"\n",
    "        shutil.copytree(download_path_dest, dest_path)"
   ]
  },
  {
   "cell_type": "code",
   "execution_count": 15,
   "metadata": {},
   "outputs": [
    {
     "data": {
      "text/plain": [
       "['coca cola']"
      ]
     },
     "execution_count": 15,
     "metadata": {},
     "output_type": "execute_result"
    }
   ],
   "source": [
    "keywords = [\"coca cola\"]\n",
    "keywords"
   ]
  },
  {
   "cell_type": "code",
   "execution_count": 16,
   "metadata": {},
   "outputs": [
    {
     "name": "stdout",
     "output_type": "stream",
     "text": [
      "STATUS: Downloading images for coca cola\n",
      "\n",
      "Item no.: 1 --> Item name = coca cola\n",
      "Evaluating...\n",
      "Starting Download...\n",
      "Completed Image ====> 1.1200px-Coca-Cola_bottle_cap.svg.png\n",
      "Completed Image ====> 2.Mini-Coronitas-Chocolate-140gr-1321.jpg\n",
      "Completed Image ====> 3.Variant-CCSA-1.png\n",
      "Completed Image ====> 4.220px-15-09-26-RalfR-WLC-0098.jpg\n",
      "Completed Image ====> 5.ps_ar_coca-cola-regular-600.png\n",
      "Completed Image ====> 6.476744_landscape.jpg\n",
      "Completed Image ====> 7.Cocinillas_227241432_116356254_1024x576.jpg\n",
      "Completed Image ====> 8.CCO-lata-354-2018-digital.png\n",
      "Completed Image ====> 9.Coca-Cola-Sin-Azucar-la-ultima-innovacion-de-Coca-Cola.rendition.320.179.png\n",
      "Completed Image ====> 10.coca-cola.jpg\n",
      "Completed Image ====> 11.logo-coca-cola-actual.png\n",
      "Completed Image ====> 12.191018184405-cnndinero-cocacola-101819-dinero-only-full-169.jpg\n",
      "Completed Image ====> 13.COCA-COLA-LOGO-1024x1024.jpg\n",
      "Completed Image ====> 14.3080013_f.jpg\n",
      "Completed Image ====> 15.Variant-CCL-2.png\n",
      "Completed Image ====> 16.1-2-3.jpg\n",
      "Completed Image ====> 17.logo-coca-cola-lead.png\n",
      "Completed Image ====> 18.Coca-Cola.jpg\n",
      "Completed Image ====> 19.coca-cola-classic.jpg\n",
      "Completed Image ====> 20.Linea-de-tiempo-recorre-la-historia-de-Coca-Cola-en-la-Argentina-1.jpg\n",
      "Completed Image ====> 21.cocaina-cocacola.jpg\n",
      "Completed Image ====> 22.cocas-2017.jpg\n",
      "Completed Image ====> 23.1502375273_736687_1502375473_noticia_normal.jpg\n",
      "URLError on an image...trying next one... Error: <urlopen error _ssl.c:835: The handshake operation timed out>\n",
      "Completed Image ====> 24.coca-cola.jpg\n",
      "URLError on an image...trying next one... Error: <urlopen error [SSL: CERTIFICATE_VERIFY_FAILED] certificate verify failed (_ssl.c:852)>\n",
      "Completed Image ====> 25.5b574f8ee266c.jpeg\n",
      "Completed Image ====> 26.nueva-cocacola.jpg\n",
      "Completed Image ====> 27.img_mguadilla_20180611-183411_imagenes_md_otras_fuentes_cocacola_clear-kezB-U45358552383YC-980x554@MundoDeportivo-Web.jpg\n",
      "Invalid or missing image format. Skipping...\n",
      "Completed Image ====> 28.coca-cola-1-4746x2373.jpg\n",
      "Completed Image ====> 29.220px-Bouteille_de_Coca-Cola_d%27un_litre_cinq_001.jpg\n",
      "Completed Image ====> 30.camion-coca-cola-1920.jpg\n",
      "Completed Image ====> 31.122565_85792.jpg\n",
      "Completed Image ====> 32.262069-coca-cola-mensaje-estafa-whastapp.png\n",
      "Completed Image ====> 33.cocacola_.jpg\n",
      "Completed Image ====> 34.Cola_Cola.jpg\n",
      "Completed Image ====> 35.cocacola_classic-1280x720.jpg\n",
      "Completed Image ====> 36.Meals-480x600px.jpg\n",
      "Completed Image ====> 37.1520445548_236038_1520445831_noticia_normal.jpg\n",
      "Completed Image ====> 38.coca-cola-logo2.jpg\n",
      "Completed Image ====> 39.Pincodes%20Mobile.jpg\n",
      "Completed Image ====> 40.Coca-Cola%20de%20principio%20a%20fin%20Apertura.JPG\n",
      "Completed Image ====> 41.hqdefault.jpg\n",
      "Completed Image ====> 42.img_rocarceller_20180612-114741_imagenes_lv_otras_fuentes_coca_cola_transp-k0HI-U4561547190ipH-992x558@LaVanguardia-Web.jpg\n",
      "Completed Image ====> 43.coca-cola.jpg\n",
      "Completed Image ====> 44.Open-Happiness1.jpg\n",
      "Completed Image ====> 45.1547059538_774526_1547066600_noticia_normal.jpg\n",
      "Completed Image ====> 46.190207175650-orange-vanilla-coke-full-169.jpg\n",
      "Completed Image ====> 47.sobre-coca-cola-argentina.rendition.320.179.jpg\n",
      "Completed Image ====> 48.JGV94FBF8VGGU_1.jpg\n",
      "Completed Image ====> 49.Coca-Cola%20de%20principio%20a%20fin%20Apertura.rendition.320.179.JPG\n",
      "Completed Image ====> 50.Coca-Cola-Logo-Advertising-Bottles-1280x720.jpg\n",
      "Completed Image ====> 51.cocacola.jpg\n",
      "Completed Image ====> 52.Gnota_51416.jpg\n",
      "Completed Image ====> 53.10OBESITY2-master1050.jpg\n",
      "Completed Image ====> 54.coca-cola-421.jpg\n",
      "Completed Image ====> 55._109363579_gettyimages-1180678993.jpg\n",
      "Completed Image ====> 56.Coca-Cola.jpg\n",
      "Completed Image ====> 57.cc-2.5-retpet.png\n",
      "Completed Image ====> 58.COCA-COLA.jpg\n",
      "Completed Image ====> 59.japon_tiene_una_coca_cola_transparente_1043.jpg\n",
      "Completed Image ====> 60.agregar-cacahuates-la-coca-cola.jpg\n",
      "Invalid or missing image format. Skipping...\n",
      "Invalid or missing image format. Skipping...\n",
      "Completed Image ====> 61.maxresdefault.jpg\n",
      "Completed Image ====> 62.cocacolaglasscan-600x400.jpg\n",
      "Completed Image ====> 63.coca-cola-cafe-1-640x640.jpg\n",
      "Completed Image ====> 64.Seamos-Santa_ES.rendition.320.179.png\n",
      "Completed Image ====> 65.5d990edee9ff7110662dccac.jpg\n",
      "Completed Image ====> 66.Coca-Cola.jpg\n",
      "Completed Image ====> 67.Coca-Cola-Full-vidrio-Red-Zero.jpg\n",
      "Invalid or missing image format. Skipping...\n",
      "Completed Image ====> 68.coca-cola-color-rojo.jpg\n",
      "Completed Image ====> 69.D_NQ_NP_680413-MLA31035549749_062019-O.jpg\n",
      "Completed Image ====> 70.logo-Coca-cola1.jpg\n",
      "Completed Image ====> 71.efectos-de-tomar-cafe-y-coca-cola.jpg\n",
      "Completed Image ====> 72.827978.jpg\n",
      "Completed Image ====> 73.281197-japon-asegura-que-beber-coca-cola-plus-es-bueno-salud.png\n",
      "Completed Image ====> 74.Conoce-todo-package-coca-cola-sin-azucar.jpg\n",
      "Completed Image ====> 75.coca-cola-products-798x334.jpg\n",
      "Completed Image ====> 76.Gnota_50303.jpg\n",
      "Invalid or missing image format. Skipping...\n",
      "Completed Image ====> 77.full-red-botellas.rendition.320.179.jpg\n",
      "Completed Image ====> 78.un-nuevo-capitulo-en-la-guerra-de-coca-cola-y-pepsi.jpg\n",
      "Completed Image ====> 79.maxresdefault.jpg\n",
      "Completed Image ====> 80.1553772707_808574_1553773789_sumario_grande.jpg\n",
      "\n",
      "Errors: 7\n",
      "\n",
      "Cantidad descargas: 77\n"
     ]
    }
   ],
   "source": [
    "download_image(keywords, download_path, limit)"
   ]
  },
  {
   "cell_type": "code",
   "execution_count": null,
   "metadata": {},
   "outputs": [],
   "source": []
  }
 ],
 "metadata": {
  "kernelspec": {
   "display_name": "Python 3",
   "language": "python",
   "name": "python3"
  },
  "language_info": {
   "codemirror_mode": {
    "name": "ipython",
    "version": 3
   },
   "file_extension": ".py",
   "mimetype": "text/x-python",
   "name": "python",
   "nbconvert_exporter": "python",
   "pygments_lexer": "ipython3",
   "version": "3.6.9"
  }
 },
 "nbformat": 4,
 "nbformat_minor": 2
}
