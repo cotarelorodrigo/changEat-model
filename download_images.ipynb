{
 "cells": [
  {
   "cell_type": "code",
   "execution_count": 1,
   "metadata": {},
   "outputs": [],
   "source": [
    "from google_images_download import google_images_download\n",
    "import glob\n",
    "import shutil\n",
    "import os\n",
    "import cv2\n",
    "\n",
    "#instantiate the class\n",
    "response = google_images_download.googleimagesdownload()\n",
    "download_path = \"downloads\"\n",
    "limit = 80"
   ]
  },
  {
   "cell_type": "code",
   "execution_count": 2,
   "metadata": {},
   "outputs": [],
   "source": [
    "def png_to_jpg(download_path):\n",
    "    pngs = glob.glob(download_path + \"*.png\")\n",
    "    for j in pngs:\n",
    "        img = cv2.imread(j)\n",
    "        cv2.imwrite(j[:-3] + 'jpg', img)\n",
    "        os.remove(j)\n",
    "\n",
    "def download_image(keywords, download_path, limit):\n",
    "    \n",
    "    for keyword in keywords:\n",
    "        arguments = {\"keywords\":keyword,\"limit\":limit,\"print_urls\":False, format:\"jpg\"}\n",
    "        print(\"STATUS: Downloading images for {}\".format(keyword))\n",
    "        paths = response.download(arguments)\n",
    "        download_path_dest = download_path + \"/\" + keyword + \"/\"\n",
    "        png_to_jpg(download_path_dest)\n",
    "        # take all the images from the dataset\n",
    "        image_paths = glob.glob(download_path_dest + \"*.jpg\")\n",
    "        print(\"Cantidad descargas: {}\".format(len(image_paths)))\n",
    "        for index, image_path in enumerate(image_paths, start=1):\n",
    "            original_path   = image_path\n",
    "            image_path      = image_path.split(\"/\")\n",
    "            image_file_name = str(index) + \".jpg\"\n",
    "            os.rename(original_path, download_path_dest + image_file_name)\n",
    "        dest_path = \"dataset/train/\" + keyword + \"/\"\n",
    "        shutil.copytree(download_path_dest, dest_path)"
   ]
  },
  {
   "cell_type": "code",
   "execution_count": 7,
   "metadata": {},
   "outputs": [
    {
     "data": {
      "text/plain": [
       "['galletitas toddy']"
      ]
     },
     "execution_count": 7,
     "metadata": {},
     "output_type": "execute_result"
    }
   ],
   "source": [
    "keywords = [\"galletitas toddy\"]\n",
    "keywords"
   ]
  },
  {
   "cell_type": "code",
   "execution_count": 8,
   "metadata": {},
   "outputs": [
    {
     "name": "stdout",
     "output_type": "stream",
     "text": [
      "STATUS: Downloading images for galletitas toddy\n",
      "\n",
      "Item no.: 1 --> Item name = galletitas toddy\n",
      "Evaluating...\n",
      "Starting Download...\n",
      "Completed Image ====> 1.galletitas-toddy-de-pepsico-x-178-grs-D_NQ_NP_252221-MLA20749745190_062016-F.jpg\n",
      "Completed Image ====> 2.toddy-rellenas.jpg\n",
      "Completed Image ====> 3.galletitas-toddy-de-pepsico-x-178-grs-D_NQ_NP_788221-MLA20749749150_062016-Q.jpg\n",
      "Completed Image ====> 4.galletitas-toddy-210gr-super-oferta-en-distr-emidul-D_NQ_NP_771800-MLA26508210820_122017-F.jpg\n",
      "Completed Image ====> 5.galletitas-toddy-con-chips.jpg\n",
      "URLError on an image...trying next one... Error: <urlopen error [Errno -2] Name or service not known>\n",
      "URLError on an image...trying next one... Error: <urlopen error [Errno -2] Name or service not known>\n",
      "URLError on an image...trying next one... Error: <urlopen error [Errno -2] Name or service not known>\n",
      "Completed Image ====> 6.toddyx21-3cabb848c4ce41989615541579871602-640-0.jpg\n",
      "Completed Image ====> 7.GALLETAS-TODDY.jpg\n",
      "Completed Image ====> 8.00237011.jpg\n",
      "Completed Image ====> 9.todyy_rellenas.jpg\n",
      "Completed Image ====> 10.toddy-1620x800.jpg\n",
      "Completed Image ====> 11.Galletitas-Toddy-chispas-negra-126-gr.jpg\n",
      "Completed Image ====> 12.tef1W.jpg\n",
      "Completed Image ====> 13.Galletitas-Toddy-chispas-negra-126-gr.jpg\n",
      "Completed Image ====> 14.Pack-Toddy-Extra_-ALTA.jpg\n",
      "Completed Image ====> 15.2141958_f.jpg\n",
      "Completed Image ====> 16.661742.jpg\n",
      "Completed Image ====> 17.galletas-toddy-chispas-chocolate-x-210-gr.jpg\n",
      "Completed Image ====> 18.toddy-887x492.jpg\n",
      "Completed Image ====> 19.Galletitas-Toddy-Chispas-Dulce-De-Leche-126-Gr-1-541588.jpg\n",
      "Completed Image ====> 20.Galletitas-Chocolat-por-Pierini-566x242.jpg\n",
      "Completed Image ====> 21.2141338_f.jpg\n",
      "Completed Image ====> 22.TODDY-MIX-GRANDE.jpg\n",
      "Completed Image ====> 23.598781_493930843987887_2061358871_n.png\n",
      "Completed Image ====> 24.maxresdefault.jpg\n",
      "Completed Image ====> 25.7790310982525.jpg\n",
      "Completed Image ====> 26.400x4001404409844_toddy_extra_3.jpg\n",
      "URLError on an image...trying next one... Error: HTTP Error 404: Not Found\n",
      "Completed Image ====> 27.wmtcl-e1571844601520.jpg\n",
      "Completed Image ====> 28.2galletitas.jpg\n",
      "Completed Image ====> 29.galletitatoddy1.jpg\n",
      "Completed Image ====> 30.ppp.jpg\n",
      "Completed Image ====> 31.155904-1524502673.png\n",
      "Completed Image ====> 32.110625_70637.jpg\n",
      "Completed Image ====> 33.galletitas-toddy-chispas-chocolate-210g-x-unidad-D_NQ_NP_724661-MLA28460465192_102018-Q.jpg\n",
      "Completed Image ====> 34.tentacion-toddy-grido-helado-nuevo-interna1-cba.jpg\n",
      "Completed Image ====> 35.f800x450-41843_93289_0.jpg\n",
      "Completed Image ====> 36.tentacion-toddy-grido-helado-nuevo-interna2-cba.jpg\n",
      "Completed Image ====> 37.Toddy-opt.jpg\n",
      "Completed Image ====> 38.VnJHi.jpg\n",
      "Completed Image ====> 39.PACK-TODDY-EN-UNO.png\n",
      "Completed Image ====> 40.galletitas-toddy-caseras-foto-principal.jpg\n",
      "Invalid or missing image format. Skipping...\n",
      "Completed Image ====> 41.toddy.jpg\n",
      "Completed Image ====> 42.400x4001336071482_toddys2.jpg\n",
      "Completed Image ====> 43.maxresdefault.jpg\n",
      "Completed Image ====> 44.galletitas-toddy-%F0%9F%8D%AA-foto-principal.jpg\n",
      "Completed Image ====> 45.Galletas-Toddy-75-Gramos-Con-Chispas-De-Chocolate-Galletitas-Toddy-Chips-De-Chocolate-75-Gr-1-44039.jpg\n",
      "Completed Image ====> 46.P1080745.JPG\n",
      "Completed Image ====> 47.chipsahoy_lightbox.jpg\n",
      "Completed Image ====> 48.toddy.jpg\n",
      "Completed Image ====> 49.584x5841385449318_toddy14.png\n",
      "Completed Image ====> 50.6904523301_a08cc5861a_b.jpg\n",
      "Completed Image ====> 51.Toddy-1.jpg\n",
      "Completed Image ====> 52.Cheescake-de-Toddy-02.jpg\n",
      "Completed Image ====> 53.D_NQ_NP_653043-MLA25629559370_052017-O.webp\n",
      "Completed Image ====> 54.Toddy+y+pepitos+1.jpg\n",
      "Invalid or missing image format. Skipping...\n",
      "Completed Image ====> 55.TODDY-MIX-GRANDE-740x440.jpg\n",
      "Completed Image ====> 56.572755.jpg\n",
      "Completed Image ====> 57.Toddy270x180.jpg\n",
      "Completed Image ====> 58.toddy-ponele-chispas-a-tu-viaje-gana-viajes-.jpg\n",
      "Completed Image ====> 59.maxresdefault.jpg\n",
      "Completed Image ====> 60.B3B.jpg\n",
      "URLError on an image...trying next one... Error: <urlopen error _ssl.c:835: The handshake operation timed out>\n",
      "Completed Image ====> 61.6b1417fa50963234a87f77538b7660b5.jpg\n",
      "Completed Image ====> 62.chungo-mousseddl-toddy.jpg\n",
      "Completed Image ====> 63.TODDY_RECORTADAS_copia_crop_1342729934830.jpg\n",
      "Completed Image ====> 64.485815.jpg\n",
      "Completed Image ====> 65.toddygrande1-2a667654e4ff3038d915541579870556-1024-1024.jpg\n",
      "Completed Image ====> 66.271725-MLA25474716626_032017-O.jpg\n",
      "Invalid or missing image format. Skipping...\n",
      "Completed Image ====> 67.hqdefault.jpg\n",
      "Completed Image ====> 68.59dad38aa7905.jpg\n",
      "Completed Image ====> 69.dsadasdsadas.jpg\n",
      "Completed Image ====> 70.4C9.jpg\n",
      "Completed Image ====> 71.400x4001356641308_oreotoddy2.jpg\n",
      "Completed Image ====> 72.mierc-27-de-enero-17hs.jpg\n",
      "Completed Image ====> 73.0779811315128-1.jpg\n",
      "Completed Image ====> 74.unnamed-10-960x1024.jpg\n",
      "Completed Image ====> 75.04F.jpg\n",
      "Completed Image ====> 76.galletitas-toddy-%F0%9F%91%A9%F0%9F%8F%BC%F0%9F%8D%B3%F0%9F%98%8B-foto-principal.jpg\n",
      "URLError on an image...trying next one... Error: <urlopen error unknown url type: x-raw-image>\n",
      "Completed Image ====> 77.FotoJet-CollageJUEVES-20-DE-ABRIL.jpg\n",
      "Completed Image ====> 78.maxresdefault.jpg\n",
      "URLError on an image...trying next one... Error: <urlopen error [Errno -2] Name or service not known>\n",
      "Completed Image ====> 79.15ds85z.jpg\n",
      "Completed Image ====> 80.CD2TJ5NUUAAMXQe.png\n",
      "\n",
      "Errors: 10\n",
      "\n",
      "Cantidad descargas: 78\n"
     ]
    }
   ],
   "source": [
    "download_image(keywords, download_path, limit)"
   ]
  },
  {
   "cell_type": "code",
   "execution_count": null,
   "metadata": {},
   "outputs": [],
   "source": []
  }
 ],
 "metadata": {
  "kernelspec": {
   "display_name": "Python 3",
   "language": "python",
   "name": "python3"
  },
  "language_info": {
   "codemirror_mode": {
    "name": "ipython",
    "version": 3
   },
   "file_extension": ".py",
   "mimetype": "text/x-python",
   "name": "python",
   "nbconvert_exporter": "python",
   "pygments_lexer": "ipython3",
   "version": "3.6.9"
  }
 },
 "nbformat": 4,
 "nbformat_minor": 2
}
